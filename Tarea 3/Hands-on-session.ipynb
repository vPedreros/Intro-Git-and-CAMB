{
 "cells": [
  {
   "cell_type": "markdown",
   "id": "d0fd9864-84c1-4edb-88c1-2a9e60e47c81",
   "metadata": {},
   "source": [
    "# Hands-on Session"
   ]
  },
  {
   "cell_type": "markdown",
   "id": "8501ae59-61da-4c6b-8b88-38f742037f55",
   "metadata": {},
   "source": [
    "\n",
    "### 1. **Exploring Parameter Sensitivity (Fisher Matrix Approach)**\n",
    "\n",
    "**Task**: Modify the SNIa Fisher matrix code to evaluate the sensitivity of different cosmological parameters (e.g., $\\Omega_m $, $ w_0$, $H_0$). Understand how changes in the input data influence the constraints on the parameters:\n",
    "\n",
    "- **Exercise**:\n",
    "  - Vary the number of supernovae or their distribution over redshift and see how it impacts the Fisher matrix.\n",
    "  - Analyze how the uncertainty in each parameter changes based on these variations.\n",
    "  - Plot the contours showing the confidence regions and discuss which parameters are most sensitive to the changes.\n",
    "\n",
    "### 2. **Cosmological Model Comparison (MCMC Approach)**\n",
    "\n",
    "**Task**: Run MCMC simulations for different cosmological models using the SNIa data (e.g., $\\Lambda$CDM vs. $w$CDM).\n",
    "\n",
    "- **Objective**: Demonstrate how to compare models and interpret the posterior distributions.\n",
    "- **Exercise**:\n",
    "  - Implement different priors (flat, Gaussian) for parameters like $w$ and $H_0$ and observe how these priors affect the posteriors.\n",
    "  - Visualize the posterior distributions and compute the confidence intervals for each parameter.\n",
    "  - Have the students compare the goodness-of-fit and the Bayesian evidence between the models.\n",
    "\n",
    "### 3. **Bayesian Model Selection and Evidence Calculation**\n",
    "\n",
    "**Task**: Calculate the evidence for different cosmological models using the MCMC outputs and comparing models using the Bayes factor.\n",
    "\n",
    "- **Exercise**:\n",
    "  - Use the output of the MCMC runs to compute the evidence for each model and the corresponding Bayes factor.\n",
    "  - Analyze and interpret whether the data prefer a cosmological constant $w = -1$ or a more general dark energy model $w \\neq -1$.\n",
    "  - Discuss how prior choices influence the evidence calculation.\n",
    "\n",
    "### 4. **Forecasting with Mock SNIa Catalogs**\n",
    "\n",
    "- **Exercise**:\n",
    "  - Create mock catalogs with different supernova distributions;\n",
    "  - Vary observational errors;\n",
    "  - Vary the binning strategy;\n",
    "  - Provide the Space Agancy the best configuration for obtaining the best (possible)  constraints on the cosmological parameters.\n",
    "\n",
    "\n",
    "### 5. **Joint Constraints with Other Probes**\n",
    "\n",
    "**Task**: Provide additional data from other cosmological probes (e.g., CMB, BAO) and combine these with SNIa data using both the Fisher matrix and MCMC methods.\n",
    "\n",
    "- **Exercise**:\n",
    "  - Implement the combination of SNIa data with CMB data in their Fisher matrix calculation to see how parameter degeneracies break.\n",
    "  - In the MCMC setup, add the likelihoods of other probes and analyze how the combined constraints compare to those from SNIa alone.\n",
    " "
   ]
  },
  {
   "cell_type": "code",
   "execution_count": null,
   "id": "793fcea5-daa9-4935-99e5-5df5642be649",
   "metadata": {},
   "outputs": [],
   "source": []
  }
 ],
 "metadata": {
  "kernelspec": {
   "display_name": "Python 3 (ipykernel)",
   "language": "python",
   "name": "python3"
  },
  "language_info": {
   "codemirror_mode": {
    "name": "ipython",
    "version": 3
   },
   "file_extension": ".py",
   "mimetype": "text/x-python",
   "name": "python",
   "nbconvert_exporter": "python",
   "pygments_lexer": "ipython3",
   "version": "3.12.0"
  }
 },
 "nbformat": 4,
 "nbformat_minor": 5
}
